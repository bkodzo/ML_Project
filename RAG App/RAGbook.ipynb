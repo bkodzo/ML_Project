{
 "cells": [
  {
   "cell_type": "code",
   "execution_count": 11,
   "id": "be3b01b9-85ed-4a9a-9da1-a08af2fd389e",
   "metadata": {},
   "outputs": [],
   "source": [
    "PDF_FILE = \"Qlearn.pdf\"\n",
    "MODEL = \"llama3.2\"\n"
   ]
  },
  {
   "cell_type": "markdown",
   "id": "515928da-a8ec-4c53-b87d-8cf7219974fe",
   "metadata": {},
   "source": [
    "LOAD PAGES FROM PDF"
   ]
  },
  {
   "cell_type": "code",
   "execution_count": 12,
   "id": "1357f0bd-ee11-441b-bb26-f054efe6020f",
   "metadata": {},
   "outputs": [
    {
     "name": "stdout",
     "output_type": "stream",
     "text": [
      "Number of Pages: 21\n",
      "Length of a Page:9050\n",
      "Content of a page: Vehicular Communications 49 (2024) 100826\n",
      "2\n",
      "M. Hosseinzadeh, S. Ali, H. Jawad Ahmad et al.\n",
      "tocols are designed for FANETs. These methods can be categorized into \n",
      "several groups, including topology-based routing, geographic routing, \n",
      "machine learning-based routing, swarm-based routing, and hybrid rout-\n",
      "ing [6,7]. Due to the limitations of these networks, including the lack \n",
      "of infrastructure, wireless communication channels, dynamic topology, \n",
      "and unreliable communication between UAVs,  cyberattacks have a bad \n",
      "eﬀect on routing protocols in FANET  [8–10]. A common  hypothesis in \n",
      "most routing protocols is that UAVs  are trustable. These protocols of-\n",
      "ten neglect security issues. As a result, they provide many opportunities \n",
      "for attackers to carry out cyberattacks [11,12]. Therefore, maintaining \n",
      "communication security and guaranteeing services are very important \n",
      "issues. This paper focuses on a very serious attack called“Wormhole”. \n",
      "This cyberattack is a destructive threat to FANET  and aﬀects network \n",
      "communication links [13,14]. FANETs are potentially susceptible to this \n",
      "cyberattack due to their open architecture and dynamic topology. To-\n",
      "day, the number of these threats is signiﬁcantly increasing on FANETs \n",
      "[15]. Therefore, many researchers are investigating facilities to secure \n",
      "these systems and guarantee the security of drones as an important part \n",
      "of the Internet of Things. It is diﬃcult to deal with these threats and \n",
      "ensure network security because common  approaches, such as intru-\n",
      "sion detection systems or encryption, are not enough to combat such \n",
      "threats. Thus, FANET  requires a defensive system to prevent damage \n",
      "to drones because they are an attractive goal for cyberattacks, such \n",
      "as wormholes. The detection of this attack is very challenging because \n",
      "wormholes can be implemented in FANET  without accessing secret keys, \n",
      "capturing UAVs,  or knowing the routing protocol [16–18]. As a result, \n",
      "most powerful key cryptography methods cannot neutralize this attack \n",
      "and protect communication. A wormhole does not require the content \n",
      "of control packets. It is very diﬃcult to detect wormholes because they \n",
      "make no change to the contents of the packets [19–21].\n",
      "In a wormhole attack, a malicious UAV  constantly checks wireless \n",
      "communication channels and captures the exchanged packets [22,23]. \n",
      "Then, these packets will be tunneled into another malicious UAV.  Lastly, \n",
      "it disseminates these packets locally in its surrounding area [24,25]. \n",
      "Hence, UAVs  close to these attackers cannot ﬁnd legal routes in the net-\n",
      "work because wormholes announce attractive paths with one or two \n",
      "hops, while legal paths have more hops. After performing this subver-\n",
      "sive operation, network performance will be sharply weak [26,27]. The \n",
      "attack can negatively aﬀect a wide range of routing protocols because \n",
      "it can provide suitable conditions for implementing other attacks such \n",
      "as selective forwarding (SF), traﬃc analysis, or denial of service (DoS) \n",
      "attacks [28,29]. In general, malicious nodes launch wormholes in two \n",
      "modes, namely hidden and participation. In the hidden mode, malicious \n",
      "UAVs  hide their identiﬁers in FANETs [30,31]. In this case, they play \n",
      "the role of simple transceivers. These hostile UAVs  sniﬀ data packets on \n",
      "one side of the wormhole tunnel. Then, they capture and propagate these \n",
      "packets on the other side of this tunnel [32,33]. Clearly, this wormhole \n",
      "attack does not require any secret key. In the hidden mode, there are two \n",
      "types of wormholes, namely encapsulation and packet relay [34,35]. In \n",
      "packet encapsulation, the ﬁrst attacker performs the encapsulation op-\n",
      "eration as soon as it captures a packet. This prevents the increase in hop \n",
      "counts in the original packet. Then, the encapsulated packet is sent to \n",
      "the second attacker through the wormhole tunnel [36–38]. In the packet \n",
      "relay, the network can be threatened by only one malicious UAV.  This \n",
      "attacker rebroadcasts packets received from a legal UAV  to other dis-\n",
      "tant UAVs. As a result, these distant UAVs  mistakenly imagine that they \n",
      "are neighbors. In the participation mode, attackers need secret keys in \n",
      "the network to run powerful attacks on FANET  [39–41]. These attack-\n",
      "ers act as legal UAVs  and play the role of intermediate nodes in routing \n",
      "paths. Wormholes increase the attractiveness of their illegal routes in \n",
      "terms of low delay and least hops [42,43]. In the participation mode, \n",
      "there are two types of wormholes, namely, high transmission power and \n",
      "out-of-band channel. In the wormhole with high transmission power, \n",
      "the attacker has a high transmission power [44,45]. This feature in-\n",
      "creases the attractiveness of this fake route. In the wormhole through \n",
      "the out-of-band channel, hostile UAVs  use an external channel with high \n",
      "bandwidth to build an attractive path in FANET  [46,47].\n",
      "Due to the limited resources, especially bandwidth and energy, in \n",
      "FANET,  it is very challenging to design defensive mechanisms against \n",
      "this dangerous attack. In the research studies such as [48–50], many \n",
      "solutions have been suggested to detect wormhole attacks in ad hoc net-\n",
      "works, but special attention to this area in FANETs is very low. On  the \n",
      "other hand, most existing security solutions in ad hoc networks require \n",
      "speciﬁc tools to provide the location of UAVs  or time synchronization \n",
      "[51–53]. These solutions usually detect wormholes, but they cannot iso-\n",
      "late hostile nodes on the network [54–56]. Therefore, there is a research \n",
      "gap in the ﬁeld of detection and isolation of wormholes in FANETs. Ad-\n",
      "ditionally, some security solutions have used artiﬁcial intelligence (AI) \n",
      "and machine learning (ML) to combat wormhole attacks [57–59]. AI \n",
      "and ML  have a lot of potential to solve problems related to the detection \n",
      "and isolation of wormholes in FANETs [60–64]. However, the number of \n",
      "AI-based and ML-based security solutions in FANET  is very small. There-\n",
      "fore, the goal of this present research is to ﬁll the existing gaps in this \n",
      "ﬁeld using ML  techniques, especially reinforcement learning (RL), which \n",
      "is a suitable option for solving distributed problems such as routing. \n",
      "Most existing ML-based routing algorithms use RL techniques, especially \n",
      "Q-learning, to build routing paths in the network [65–67]. The key ad-\n",
      "vantage of RL-based algorithms is the online and continuous learning of \n",
      "the FANET  environment. These methods learn from experiences. Hence, \n",
      "they do not need topology prediction techniques or channel estimation \n",
      "strategies. Although they take a long time to converge the optimal so-\n",
      "lution. These schemes are easily implemented and have high ﬂexibility \n",
      "against topological changes. Hence, they can achieve better and more \n",
      "accurate results [68–70].\n",
      "In this paper, a novel Q-learning-based secure routing approach \n",
      "(QSR) is proposed to neutralize wormhole attacks in FANETs. In gen-\n",
      "eral, QSR consists of the secure neighbor discovery process and the \n",
      "Q-learning-based secure routing process. Firstly, each UAV  is aware of \n",
      "its neighboring UAVs  and establishes a neighbor table. To secure this \n",
      "process, a local monitoring system is presented to detect and isolate \n",
      "wormholes. In the second phase, UAVs  decide on the most secure routes \n",
      "using a distributed Q-learning algorithm. In the following, the innova-\n",
      "tions in this paper are listed:\n",
      "•I n QSR, a secure neighbor discovery phase is provided. To secure \n",
      "this process, each UAV  monitors its adjacent UAVs  to detect and iso-\n",
      "late wormholes. In this phase, the local monitoring system deﬁnes \n",
      "three rules based on the behavior of wormholes. If a UAV  violates \n",
      "these rules, it is detected and isolated as a wormhole.\n",
      "•I n QSR, a distributed Q-learning-based routing framework is de-\n",
      "signed. This framework proposes a new reward function by evaluat-\n",
      "ing the behavior of wormholes and their eﬀect on the ﬁve important \n",
      "factors, namely the average one-hop delay, hop counts, packet loss \n",
      "ratio (PLR), packet transmission frequency (PTF), and packet recep-\n",
      "tion frequency (PRF). Furthermore, Q-learning parameters, namely \n",
      "learning rate and discount factor, are calculated dynamically to in-\n",
      "crease the compatibility of QSR with FANET.\n",
      "•I n the simulation process, QSR is compared with TOPCM,  MNRiRIP, \n",
      "and MNDA  in terms of malicious node detection rate, data deliv-\n",
      "ery ratio, data loss ratio, accuracy, and latency. These evaluations \n",
      "show that the proposed method works better than other schemes. \n",
      "QSR has a high accuracy to detect malicious UAVs  in the network. \n",
      "It improves the detection rate of malicious UAVs. However, it has \n",
      "more delay than TOPCM  in the routing process.\n",
      "The structure of this paper is as follows: Section2 introduces the \n",
      "research works related to reinforcement learning and secure schemes \n",
      "on FANETs. Section3presents the basic principles and concepts of re-\n",
      "inforcement learning. In Section4, both network and threat models in \n",
      "QSR are explained. In Section5, the details of QSR are introduced. Sec-\n",
      "tion6presents the security analysis of QSR. In Section7, the simulation \n"
     ]
    }
   ],
   "source": [
    "\n",
    "from langchain_community.document_loaders import PyPDFLoader\n",
    "\n",
    "loader = PyPDFLoader(PDF_FILE)\n",
    "pages = loader.load()\n",
    "\n",
    "print(f\"Number of Pages: {len(pages)}\")\n",
    "print(f\"Length of a Page:{len(pages[1].page_content)}\")\n",
    "print(f\"Content of a page:\", pages[1].page_content)"
   ]
  },
  {
   "cell_type": "markdown",
   "id": "b4a32ea3-6fec-4a7a-b215-c949c9d104a5",
   "metadata": {},
   "source": [
    "SPLIT PAGES INTO CHUNKS"
   ]
  },
  {
   "cell_type": "code",
   "execution_count": 22,
   "id": "f3ab4b1c-1966-42da-ade8-913bb4ba5b06",
   "metadata": {},
   "outputs": [
    {
     "name": "stdout",
     "output_type": "stream",
     "text": [
      "Number of Chunks: 71\n",
      "Length of Chunks: 1997\n",
      "Conten of Chunks: communication channels, dynamic topology, and unreliable communication between UAVs, cyberattacks, \n",
      "especially wormholes, weaken the performance of routing schemes. Therefore, maintaining communication \n",
      "security and guaranteeing the quality of service (QoS) are very challenging. In this paper, a novel Q-learning-\n",
      "based secure routing scheme (QSR) is presented for FANETs. QSR seeks to provide a robust defensive system \n",
      "against wormhole attacks, especially wormhole through encapsulation and wormhole through packet relay. \n",
      "QSR includes a secure neighbor discovery process and a Q-learning-based secure routing process. Firstly, each \n",
      "UAV gets information about its neighboring UAVs securely. To secure communication in this process, a local \n",
      "monitoring system is designed to counteract the wormhole attack through packet relay. This system checks data \n",
      "packets exchanged between neighboring UAVs and deﬁnes three rules according to the behavior of wormholes. \n",
      "In the second process, UAVs perform a distributed Q-learning-based routing process to counteract the wormhole \n",
      "attack through encapsulation. To reward the safest paths, a reward function is introduced based on ﬁve factors, \n",
      "the average one-hop delay, hop count, data loss ratio, packet transmission frequency (PTF), and packet reception \n",
      "frequency (PRF). Finally, the NS2 simulator is applied for implementing QSR and executing diﬀerent scenarios. \n",
      "The evaluation results show that QSR works better than TOPCM, MNRiRIP, and MNDA in terms of accuracy, \n",
      "malicious node detection rate, data delivery ratio, and data loss ratio. However, it has more delay than TOPCM.\n",
      "1. Introduction\n",
      "Flying ad hoc network (FANET) is dynamic and self-organized and \n",
      "includes a number of unmanned aerial vehicles (UAVs), which cooperate \n",
      "with each other to do a speciﬁc task [1,2]. UAVs is responsible for car-\n",
      "rying out missions such as navigation, industrial inspections, advanced \n",
      "mapping and imaging, search and rescue operations in large areas. In the\n"
     ]
    }
   ],
   "source": [
    "from langchain_text_splitters import RecursiveCharacterTextSplitter\n",
    "\n",
    "splitter = RecursiveCharacterTextSplitter(chunk_size=2000, chunk_overlap=100)\n",
    "\n",
    "chunk = splitter.split_documents(pages)\n",
    "print(f\"Number of Chunks: {len(chunk)}\")\n",
    "print(f\"Length of Chunks: {len(chunk[1].page_content)}\")\n",
    "print(\"Conten of Chunks:\",chunk[1].page_content )"
   ]
  },
  {
   "cell_type": "markdown",
   "id": "0c5cc688-24a3-4658-a8fb-3235c34f7c75",
   "metadata": {},
   "source": [
    "STORING CHUNKS IN A VECTOR STORE"
   ]
  },
  {
   "cell_type": "code",
   "execution_count": 23,
   "id": "35c34d1e-1898-4507-9a13-8cad7330527c",
   "metadata": {},
   "outputs": [],
   "source": [
    "from langchain_community.vectorstores import FAISS\n",
    "from langchain_community.embeddings import OllamaEmbeddings\n",
    "\n",
    "embeddings = OllamaEmbeddings(model=MODEL)\n",
    "vectorstore = FAISS.from_documents(chunk, embeddings)"
   ]
  },
  {
   "cell_type": "markdown",
   "id": "71d01a4b-6938-4f43-9042-09655ef40714",
   "metadata": {},
   "source": [
    "SETTING UP A RETRIEVER"
   ]
  },
  {
   "cell_type": "code",
   "execution_count": 26,
   "id": "c61284a2-20dd-415a-84b7-c28bb416f10a",
   "metadata": {},
   "outputs": [
    {
     "data": {
      "text/plain": [
       "[Document(id='0bc58f85-66a4-48ec-88de-84c507648bcb', metadata={'source': 'Qlearn.pdf', 'page': 19, 'page_label': '20'}, page_content='[43] A. Altaweel, H. Mukkath, I. Kamel, GPS spooﬁng attacks in FANETs: a system-\\natic literature review, IEEE Access (2023), https://doi .org /10 .1109 /ACCESS .2023 .\\n3281731.\\n[44] F. Tlili, L.C. Fourati, S. Ayed, B. Ouni, Investigation on vulnerabilities, threats and at-\\ntacks prohibiting UAVs  charging and depleting UAVs  batteries: assessments & coun-\\ntermeasures, Ad Hoc Netw. 129 (2022) 102805, https://doi .org /10 .1016 /j .adhoc .\\n2022 .102805.\\n[45] T. Yin, Z. Gu, X. Xie, Observer-based event-triggered sliding mode control for secure \\nformation tracking of multi-UAV systems, IEEE Trans. Netw. Sci. Eng. 10(2) (2022) \\n887–898, https://doi .org /10 .1109 /TNSE .2022 .3223978.\\n[46] A. Derhab, O. Cheikhrouhou, A. Allouch, A. Koubaa, B. Qureshi, M.A. Ferrag, L. \\nMaglaras, F.A. Khan, Internet of drones security: taxonomies, open issues, and future \\ndirections, Veh. Commun.  (2022) 100552, https://doi .org /10 .1016 /j .vehcom .2022 .\\n100552.\\n[47] T.T. Nguyen, V.J. Reddi, Deep reinforcement learning for cyber security, IEEE Trans. \\nNeural Netw. Learn. Syst. (2021), https://doi .org /10 .1109 /TNNLS  .2021 .3121870.\\n[48] J.P. Yaacoub, H. Noura, O. Salman, A. Chehab, Security analysis of drones systems: \\nattacks, limitations, and recommendations, Int. Things 11 (2020) 100218, https://\\ndoi .org /10 .1016 /j .iot .2020 .100218.\\n[49] M. Khabbazian, H. Mercier, V.K. Bhargava, Severity analysis and countermeasure \\nfor the wormhole attack in wireless ad hoc networks, IEEE Trans. Wirel. Commun.  \\n8(2) (2009) 736–745, https://doi .org /10 .1109 /TWC  .2009 .070536.\\n[50]L. Lazos, R. Poovendran, C. Meadows, P. Syverson, L. Chang, Preventing wormhole \\nattacks on wireless ad hoc networks: a graph theoretic approach, in: IEEE Wire-\\nless Communications and Networking Conference, March 2005, vol.2, IEEE, 2005, \\npp.1193–1199.\\n[51] H. Alsulami, Implementation analysis of reliable unmanned aerial vehicles models'),\n",
       " Document(id='4455c46f-057b-42a2-a274-509f6049d2a6', metadata={'source': 'Qlearn.pdf', 'page': 11, 'page_label': '12'}, page_content='(14). It is dependent on four criteria, including propagation delay \\n(𝑃𝐷𝑒𝑙𝑎𝑦𝑖𝑗\\n𝑂𝑛𝑒𝐻𝑜𝑝), media access delay (𝑀𝐷𝑒𝑙𝑎𝑦𝑖𝑗\\n𝑂𝑛𝑒𝐻𝑜𝑝), and queu-\\ning delay (𝑄𝐷𝑒𝑙𝑎𝑦𝑗\\n𝑂𝑛𝑒𝐻𝑜𝑝).'),\n",
       " Document(id='f7a95ffb-f583-4297-9a7d-03e831d5a177', metadata={'source': 'Qlearn.pdf', 'page': 6, 'page_label': '7'}, page_content=')=𝛼210log10𝑑𝑖,𝑗 +𝜂2 (4)\\nso 𝛼2, 𝑑𝑖,𝑗, and 𝜂2 represent the path loss exponent, distance, and the \\npath loss at the reference point of the A2G channel, respectively.\\n4.2. Energy model\\nIn QSR, the ﬁrst-order radio model [93]i s applied to compute the \\nenergy consumption of UAVs  in the signal transmission procedure. It \\ncontains two propagation models, free-space and multi-path fading. In \\nthis regard, assume that 𝑈𝑖 transfers a data packet with a size of 𝑙bits \\nto 𝑈𝑗. Hence, the energy usage of the sender and that of the receiver are \\ncomputed according to Equations (5)and (6), respectively.\\n𝐸𝑡𝑥\\n(𝑙,𝑑𝑖,𝑗\\n)=\\n{𝑙×𝐸𝑒𝑙𝑒𝑐 +𝑙×𝜀𝑓𝑠 ×𝑑𝑖,𝑗\\n2 𝑑𝑖,𝑗 ≤ 𝑑𝑡\\n𝑙×𝐸𝑒𝑙𝑒𝑐 +𝑙×𝜀𝑚𝑝×𝑑𝑖,𝑗\\n4 𝑑𝑖,𝑗 >𝑑𝑡\\n(5)\\n𝐸𝑟𝑥(𝑙)=𝑙×𝐸𝑒𝑙𝑒𝑐 (6)\\nso 𝐸𝑒𝑙𝑒𝑐 represents the energy used in the electrical equipment of the \\nreceiver/transmitter to receive/send a bit. 𝜀𝑓𝑠\\n(\\n𝑑𝑖,𝑗\\n)2 represents the en-\\nergy used in the free space ampliﬁer and 𝜀𝑚𝑝\\n(𝑑𝑖,𝑗\\n)4 denote the energy \\nused in the multi-path fading ampliﬁer. 𝑑𝑡 is the distance threshold so \\nthat 𝑑𝑡 =\\n√\\n𝜀𝑓𝑠\\n𝜀𝑚𝑝\\n. Furthermore, 𝑑𝑖,𝑗 indicates the distance between 𝑈𝑖 and \\n𝑈𝑗, which is obtained from Equation (3).\\nFurthermore, in QSR, the technique proposed in [94]i s considered \\nto obtain the energy used in UAVs  when ﬂying and hovering in the sky. \\nAccordingly, each UAV  calculates its hovering power based on Equation \\n(7):\\n𝑃𝐻 =\\n√√√√\\n(𝑚𝑢𝑔)3\\n2𝜋𝑟𝜔𝑛𝜔𝜌𝑎\\n(7)\\nwhere 𝑚𝑢, 𝑔, 𝑟𝜔, and 𝜌𝑎 denote the mass of UAVs,  the gravitational \\nacceleration, wing radius, the number of wings, and the air density, \\nrespectively.\\nAdditionally, each UAV  calculates its ﬂying power using Equation \\n(8).\\n𝑃𝐹 =\\n(\\n𝑃max −𝑃𝐻\\n) 𝑉𝑢(𝑡)\\n𝑉max\\n(8)\\nso that 𝑉max, 𝑉𝑢(𝑡), and 𝑃max are the maximum  speed, the current speed, \\nand the maximum  power of the UAV.\\nThen, the UAV  calculates its energy consumption when hovering and \\nﬂying in the sky based on Equations (9)and (10), respectively.\\n𝐸𝐻 =𝑃𝐻𝑇𝐻 (9)\\n𝐸𝐹 =\\n𝑇𝐹\\n∫\\n0\\n𝑃𝐹𝑑𝑡 (10)\\nhere 𝑇𝐻 and 𝑇𝐹 are two hovering and ﬂight times, respectively.\\n4.3. Threat model'),\n",
       " Document(id='5b359d88-8d43-42ec-b257-5d7738be1351', metadata={'source': 'Qlearn.pdf', 'page': 18, 'page_label': '19'}, page_content='Vehicular Communications 49 (2024) 100826\\n19\\nM. Hosseinzadeh, S. Ali, H. Jawad Ahmad et al.\\nreward value according to delay, hop count, consumed energy, PLR, \\nPTF, and PRF. Also, QSR considers the dynamic topology of FANET  \\nwhen adjusting the learning parameters and uses a preventative sys-\\ntem to avoid routing holes, wormhole attacks, and link failures. The \\nperformance of QSR has been studied under various experimental sce-\\nnarios, and its results are compared with TOPCM,  MNRiRIP, and MNDA.  \\nThese experiments proved that QSR has a very good accuracy, which \\nis 6.71% higher than TOPCM. Moreover, QSR improves the detection \\nrate by 19.01%, 60.12%, and more than three times, PDR by 10.67%, \\n34.15%, 70.07%, and PLR by 51.39%, 64.07%, and 71.03% compared to \\nTOPCM,  MNRiRIP, and MNDA.  However, it has more EED than TOPCM  \\n(approximately 6.71%).\\nIn future research directions, the convergence speed of the Q-\\nlearning-based secure routing scheme must be improved because the \\nQ-learning algorithm is not suitable for an environment with a large \\nstate space. To solve this problem, a deep reinforcement learning algo-\\nrithm such as DQN  can be used to handle situations with a large state \\nspace. This idea can reduce delay in the data transfer process because \\ndeep learning techniques are much faster than traditional learning al-\\ngorithms. Furthermore, FANET  is a dynamic network. Thus, adjusting \\nsome parameters, such as the beacon broadcast time, is very important. \\nIt is suggested as a promising direction for future research. Moreover, \\nbecause of the eﬀect of the mobility of UAVs  in the simulation results, \\nthe proposed routing scheme can be evaluated through extensive simu-\\nlations to show its performance under various mobility models, such as \\nGauss Markov Mobility Model. Also, a detailed review of cyberattacks \\nin FANET  or other ad hoc networks, such as MANET,  can be considered \\nin the future.\\nCRediT authorship contribution statement')]"
      ]
     },
     "execution_count": 26,
     "metadata": {},
     "output_type": "execute_result"
    }
   ],
   "source": [
    "chunkRetreiver = vectorstore.as_retriever()\n",
    "chunkRetreiver.invoke(\"J. Manickam, M. Leo\")"
   ]
  },
  {
   "cell_type": "markdown",
   "id": "3dcecba2-3eac-43a9-aa9e-775bfe9ccd5c",
   "metadata": {},
   "source": [
    "CONFIGURING THE MODEL"
   ]
  },
  {
   "cell_type": "code",
   "execution_count": 37,
   "id": "257b38fb-a3ae-4418-be7a-cb800511e8a1",
   "metadata": {},
   "outputs": [
    {
     "data": {
      "text/plain": [
       "AIMessage(content=\"I don't have real-time information, but as of my knowledge cutoff in December 2023, the President of Ghana was Nana Akufo-Addo. However, please note that this information may have changed since then.\\n\\nFor the most up-to-date and accurate information, I recommend checking with a reliable news source or the official website of the Government of Ghana.\", additional_kwargs={}, response_metadata={'model': 'llama3.2', 'created_at': '2025-02-04T18:20:42.563626Z', 'done': True, 'done_reason': 'stop', 'total_duration': 1001852125, 'load_duration': 38792958, 'prompt_eval_count': 31, 'prompt_eval_duration': 117000000, 'eval_count': 76, 'eval_duration': 844000000, 'message': Message(role='assistant', content='', images=None, tool_calls=None)}, id='run-b60c8fd3-ae1c-4234-91db-46a7a6ac401c-0', usage_metadata={'input_tokens': 31, 'output_tokens': 76, 'total_tokens': 107})"
      ]
     },
     "execution_count": 37,
     "metadata": {},
     "output_type": "execute_result"
    }
   ],
   "source": [
    "from langchain_ollama import ChatOllama\n",
    "\n",
    "model = ChatOllama(model=MODEL, temperature=0)\n",
    "model.invoke(\"Who is the president of Ghana\")"
   ]
  },
  {
   "cell_type": "markdown",
   "id": "199e799e-7941-48b6-b262-6e37771152d6",
   "metadata": {},
   "source": [
    "PARSING THE MODEL RESPONSE"
   ]
  },
  {
   "cell_type": "code",
   "execution_count": 44,
   "id": "44d8853c-51e4-49c7-a2b9-19968db80579",
   "metadata": {},
   "outputs": [
    {
     "name": "stdout",
     "output_type": "stream",
     "text": [
      "I don't have real-time information, but as of my knowledge cutoff in December 2023, the President of Ghana was Nana Akufo-Addo. However, please note that this information may have changed since then.\n",
      "\n",
      "For the most up-to-date and accurate information, I recommend checking with a reliable news source or the official website of the Government of Ghana.\n"
     ]
    }
   ],
   "source": [
    "from langchain_core.output_parsers import StrOutputParser\n",
    "\n",
    "TxtParser = StrOutputParser()\n",
    "\n",
    "RagChain = model | TxtParser\n",
    "\n",
    "print(RagChain.invoke(\"Who is the President of Ghana\"))"
   ]
  },
  {
   "cell_type": "markdown",
   "id": "69196143-c6f7-465b-a392-24b277785b75",
   "metadata": {},
   "source": [
    "SETTING UP A PROMPT"
   ]
  },
  {
   "cell_type": "code",
   "execution_count": 50,
   "id": "8e112924-8abb-466d-8226-fa264e6c5a1c",
   "metadata": {},
   "outputs": [
    {
     "name": "stdout",
     "output_type": "stream",
     "text": [
      "\n",
      "You are a consultant that provides answers to questions and problems based on a given context.\n",
      "\n",
      "Answer the Question or problem based on the context , If you cannot answer the question, reply \"I currently do not have an idea of this\"\n",
      "\n",
      "Be concise and direct. \n",
      "\n",
      "Context: This is the context\n",
      "Question: This is the Question\n",
      "\n"
     ]
    }
   ],
   "source": [
    "from langchain.prompts import PromptTemplate\n",
    "\n",
    "Template =\"\"\"\n",
    "You are a consultant that provides answers to questions and problems based on a given context.\n",
    "\n",
    "Answer the Question or problem based on the context , If you cannot answer the question, reply \"I currently do not have an idea of this\"\n",
    "\n",
    "Be concise and direct. \n",
    "\n",
    "Context: {context}\n",
    "Question: {question}\n",
    "\"\"\"\n",
    "RagPrompt = PromptTemplate.from_template(Template)\n",
    "print(RagPrompt.format(context=\"This is the context\", question=\"This is the Question\"))"
   ]
  },
  {
   "cell_type": "markdown",
   "id": "5fbae7a2-5553-4d0b-a9ee-9b2800172859",
   "metadata": {},
   "source": [
    "**CONNECT PROMPT TO CHAIN**"
   ]
  },
  {
   "cell_type": "code",
   "execution_count": 72,
   "id": "e1186eb5-3148-410c-8e23-1b444eae4da3",
   "metadata": {},
   "outputs": [
    {
     "data": {
      "text/plain": [
       "\"Candra's brother is Brain.\""
      ]
     },
     "execution_count": 72,
     "metadata": {},
     "output_type": "execute_result"
    }
   ],
   "source": [
    "RagChain  = RagPrompt | model | TxtParser\n",
    "\n",
    "RagChain.invoke({\n",
    "    \"context\": \" Brain's sister is Candra\",\n",
    "    \"question\":\" Who is Candra's Brother ?\"\n",
    "})"
   ]
  },
  {
   "cell_type": "markdown",
   "id": "a88dc219-e7cf-438a-bf1d-17491ab1ee15",
   "metadata": {},
   "source": [
    "**ADDING RETREVER TO THE CHAIN**"
   ]
  },
  {
   "cell_type": "code",
   "execution_count": 79,
   "id": "ff7a9baf-b517-4577-ac03-c4ef0e30ad09",
   "metadata": {},
   "outputs": [],
   "source": [
    "from operator import itemgetter\n",
    "\n",
    "RagChain = (\n",
    "    {\n",
    "        \"context\":itemgetter(\"question\")|chunkRetreiver,\n",
    "        \"question\":itemgetter(\"question\"),\n",
    "    }\n",
    "    |RagPrompt\n",
    "    |model\n",
    "    |TxtParser\n",
    ")"
   ]
  },
  {
   "cell_type": "code",
   "execution_count": 85,
   "id": "68614b8b-35e6-4277-9f8e-306102e81621",
   "metadata": {},
   "outputs": [
    {
     "name": "stdout",
     "output_type": "stream",
     "text": [
      "Question: What is Q learning?\n",
      "Answer: I don't have enough information to provide a direct answer about what Q-learning is. However, I can tell you that Q-learning is a type of reinforcement learning algorithm used in machine learning and artificial intelligence. It's often used for solving complex problems like routing in wireless networks or decision-making in autonomous systems.\n",
      "\n",
      "If you'd like more information on Q-learning, I can try to provide some general details.\n",
      "******************************\n",
      "\n",
      "Question: How is Q learning used in networking?\n",
      "Answer: I don't have enough information to provide a specific answer about how Q-learning is used in networking. The provided text mentions that reinforcement learning (RL), including Q-learning, is used in some existing ML-based routing algorithms for FANETs, but it does not provide detailed information on its application in networking.\n",
      "******************************\n",
      "\n",
      "Question: What are some of the Research Done in Q learning?\n",
      "Answer: Some research done in Q-learning includes:\n",
      "\n",
      "1. Developing secure neighbor discovery processes and Q-learning-based secure routing approaches to neutralize wormhole attacks in FANETs.\n",
      "2. Investigating the use of reinforcement learning (RL) techniques, especially Q-learning, for building routing paths in networks.\n",
      "3. Exploring the online and continuous learning capabilities of RL-based algorithms, which can learn from experiences without requiring topology prediction or channel estimation strategies.\n",
      "4. Evaluating the performance of Q-learning-based approaches in various environments, including 3D environments like FANETs.\n",
      "5. Investigating the use of signal-to-interference-plus-noise ratio (SINR) to evaluate the quality of transmissions and defining speed constraints to decrease latency in routing processes.\n",
      "\n",
      "These research areas aim to improve the security and performance of wireless networks, particularly in the context of FANETs.\n",
      "******************************\n",
      "\n"
     ]
    }
   ],
   "source": [
    "questions = [\n",
    "    \"What is Q learning?\",\n",
    "    \"How is Q learning used in networking?\",\n",
    "    \"What are some of the Research Done in Q learning?\"\n",
    "]\n",
    "\n",
    "for question in questions:\n",
    "    print(f\"Question: {question}\")\n",
    "    print(f\"Answer: {RagChain.invoke({\"question\": question})}\")\n",
    "    print(\"******************************\\n\")"
   ]
  },
  {
   "cell_type": "code",
   "execution_count": null,
   "id": "1ec2e6ff-0e62-40d1-983b-398095d3ade3",
   "metadata": {},
   "outputs": [],
   "source": []
  }
 ],
 "metadata": {
  "kernelspec": {
   "display_name": "Python 3 (ipykernel)",
   "language": "python",
   "name": "python3"
  },
  "language_info": {
   "codemirror_mode": {
    "name": "ipython",
    "version": 3
   },
   "file_extension": ".py",
   "mimetype": "text/x-python",
   "name": "python",
   "nbconvert_exporter": "python",
   "pygments_lexer": "ipython3",
   "version": "3.12.8"
  }
 },
 "nbformat": 4,
 "nbformat_minor": 5
}
